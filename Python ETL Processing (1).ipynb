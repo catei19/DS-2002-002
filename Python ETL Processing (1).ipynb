{
 "cells": [
  {
   "cell_type": "markdown",
   "id": "36b50057",
   "metadata": {},
   "source": [
    "Prerequisites:"
   ]
  },
  {
   "cell_type": "code",
   "execution_count": 13,
   "id": "2645fce4",
   "metadata": {},
   "outputs": [],
   "source": [
    "import os\n",
    "import numpy\n",
    "import pandas as pd\n",
    "from sqlalchemy import create_engine"
   ]
  },
  {
   "cell_type": "code",
   "execution_count": 14,
   "id": "8da1f224",
   "metadata": {},
   "outputs": [],
   "source": [
    "host_name = \"localhost\"\n",
    "host_ip = \"127.0.0.1\"\n",
    "port = \"3306\"\n",
    "user_id = \"root\"\n",
    "pwd = \"10@cornPlace\"\n",
    "\n",
    "src_dbname = \"northwind\"\n",
    "dst_dbname = \"northwind_dw\""
   ]
  },
  {
   "cell_type": "code",
   "execution_count": 15,
   "id": "4994e3e0",
   "metadata": {},
   "outputs": [],
   "source": [
    "def get_dataframe(user_id, pwd, host_name, db_name, sql_query):\n",
    "    conn_str = f\"mysql+pymysql://{user_id}:{pwd}@{host_name}/{db_name}\"\n",
    "    sqlEngine = create_engine(conn_str, pool_recycle=3600)\n",
    "    connection = sqlEngine.connect()\n",
    "    dframe = pd.read_sql(sql_query, connection);\n",
    "    connection.close()\n",
    "    \n",
    "    return dframe\n",
    "\n",
    "\n",
    "def set_dataframe(user_id, pwd, host_name, db_name, df, table_name, pk_column, db_operation):\n",
    "    conn_str = f\"mysql+pymysql://{user_id}:{pwd}@{host_name}/{db_name}\"\n",
    "    sqlEngine = create_engine(conn_str, pool_recycle=3600)\n",
    "    connection = sqlEngine.connect()\n",
    "    \n",
    "    if db_operation == \"insert\":\n",
    "        df.to_sql(table_name, con=connection, index=False, if_exists='replace')\n",
    "        sqlEngine.execute(f\"ALTER TABLE {table_name} ADD PRIMARY KEY ({pk_column});\")\n",
    "            \n",
    "    elif db_operation == \"update\":\n",
    "        df.to_sql(table_name, con=connection, index=False, if_exists='append')\n",
    "    \n",
    "    connection.close()"
   ]
  },
  {
   "cell_type": "code",
   "execution_count": 16,
   "id": "cc3c5273",
   "metadata": {
    "scrolled": true
   },
   "outputs": [
    {
     "ename": "ModuleNotFoundError",
     "evalue": "No module named 'pymysql'",
     "output_type": "error",
     "traceback": [
      "\u001b[1;31m---------------------------------------------------------------------------\u001b[0m",
      "\u001b[1;31mModuleNotFoundError\u001b[0m                       Traceback (most recent call last)",
      "Input \u001b[1;32mIn [16]\u001b[0m, in \u001b[0;36m<cell line: 2>\u001b[1;34m()\u001b[0m\n\u001b[0;32m      1\u001b[0m conn_str \u001b[38;5;241m=\u001b[39m \u001b[38;5;124mf\u001b[39m\u001b[38;5;124m\"\u001b[39m\u001b[38;5;124mmysql+pymysql://\u001b[39m\u001b[38;5;132;01m{\u001b[39;00muser_id\u001b[38;5;132;01m}\u001b[39;00m\u001b[38;5;124m:\u001b[39m\u001b[38;5;132;01m{\u001b[39;00mpwd\u001b[38;5;132;01m}\u001b[39;00m\u001b[38;5;124m@\u001b[39m\u001b[38;5;132;01m{\u001b[39;00mhost_name\u001b[38;5;132;01m}\u001b[39;00m\u001b[38;5;124m\"\u001b[39m\n\u001b[1;32m----> 2\u001b[0m sqlEngine \u001b[38;5;241m=\u001b[39m \u001b[43mcreate_engine\u001b[49m\u001b[43m(\u001b[49m\u001b[43mconn_str\u001b[49m\u001b[43m,\u001b[49m\u001b[43m \u001b[49m\u001b[43mpool_recycle\u001b[49m\u001b[38;5;241;43m=\u001b[39;49m\u001b[38;5;241;43m3600\u001b[39;49m\u001b[43m)\u001b[49m\n\u001b[0;32m      4\u001b[0m sqlEngine\u001b[38;5;241m.\u001b[39mexecute(\u001b[38;5;124mf\u001b[39m\u001b[38;5;124m\"\u001b[39m\u001b[38;5;124mDROP DATABASE IF EXISTS `\u001b[39m\u001b[38;5;132;01m{\u001b[39;00mdst_dbname\u001b[38;5;132;01m}\u001b[39;00m\u001b[38;5;124m`;\u001b[39m\u001b[38;5;124m\"\u001b[39m)\n\u001b[0;32m      5\u001b[0m sqlEngine\u001b[38;5;241m.\u001b[39mexecute(\u001b[38;5;124mf\u001b[39m\u001b[38;5;124m\"\u001b[39m\u001b[38;5;124mCREATE DATABASE `\u001b[39m\u001b[38;5;132;01m{\u001b[39;00mdst_dbname\u001b[38;5;132;01m}\u001b[39;00m\u001b[38;5;124m`;\u001b[39m\u001b[38;5;124m\"\u001b[39m)\n",
      "File \u001b[1;32m<string>:2\u001b[0m, in \u001b[0;36mcreate_engine\u001b[1;34m(url, **kwargs)\u001b[0m\n",
      "File \u001b[1;32m~\\anaconda3\\lib\\site-packages\\sqlalchemy\\util\\deprecations.py:309\u001b[0m, in \u001b[0;36mdeprecated_params.<locals>.decorate.<locals>.warned\u001b[1;34m(fn, *args, **kwargs)\u001b[0m\n\u001b[0;32m    302\u001b[0m     \u001b[38;5;28;01mif\u001b[39;00m m \u001b[38;5;129;01min\u001b[39;00m kwargs:\n\u001b[0;32m    303\u001b[0m         _warn_with_version(\n\u001b[0;32m    304\u001b[0m             messages[m],\n\u001b[0;32m    305\u001b[0m             versions[m],\n\u001b[0;32m    306\u001b[0m             version_warnings[m],\n\u001b[0;32m    307\u001b[0m             stacklevel\u001b[38;5;241m=\u001b[39m\u001b[38;5;241m3\u001b[39m,\n\u001b[0;32m    308\u001b[0m         )\n\u001b[1;32m--> 309\u001b[0m \u001b[38;5;28;01mreturn\u001b[39;00m fn(\u001b[38;5;241m*\u001b[39margs, \u001b[38;5;241m*\u001b[39m\u001b[38;5;241m*\u001b[39mkwargs)\n",
      "File \u001b[1;32m~\\anaconda3\\lib\\site-packages\\sqlalchemy\\engine\\create.py:560\u001b[0m, in \u001b[0;36mcreate_engine\u001b[1;34m(url, **kwargs)\u001b[0m\n\u001b[0;32m    558\u001b[0m         \u001b[38;5;28;01mif\u001b[39;00m k \u001b[38;5;129;01min\u001b[39;00m kwargs:\n\u001b[0;32m    559\u001b[0m             dbapi_args[k] \u001b[38;5;241m=\u001b[39m pop_kwarg(k)\n\u001b[1;32m--> 560\u001b[0m     dbapi \u001b[38;5;241m=\u001b[39m dialect_cls\u001b[38;5;241m.\u001b[39mdbapi(\u001b[38;5;241m*\u001b[39m\u001b[38;5;241m*\u001b[39mdbapi_args)\n\u001b[0;32m    562\u001b[0m dialect_args[\u001b[38;5;124m\"\u001b[39m\u001b[38;5;124mdbapi\u001b[39m\u001b[38;5;124m\"\u001b[39m] \u001b[38;5;241m=\u001b[39m dbapi\n\u001b[0;32m    564\u001b[0m dialect_args\u001b[38;5;241m.\u001b[39msetdefault(\u001b[38;5;124m\"\u001b[39m\u001b[38;5;124mcompiler_linting\u001b[39m\u001b[38;5;124m\"\u001b[39m, compiler\u001b[38;5;241m.\u001b[39mNO_LINTING)\n",
      "File \u001b[1;32m~\\anaconda3\\lib\\site-packages\\sqlalchemy\\dialects\\mysql\\pymysql.py:68\u001b[0m, in \u001b[0;36mMySQLDialect_pymysql.dbapi\u001b[1;34m(cls)\u001b[0m\n\u001b[0;32m     66\u001b[0m \u001b[38;5;129m@classmethod\u001b[39m\n\u001b[0;32m     67\u001b[0m \u001b[38;5;28;01mdef\u001b[39;00m \u001b[38;5;21mdbapi\u001b[39m(\u001b[38;5;28mcls\u001b[39m):\n\u001b[1;32m---> 68\u001b[0m     \u001b[38;5;28;01mreturn\u001b[39;00m \u001b[38;5;28;43m__import__\u001b[39;49m\u001b[43m(\u001b[49m\u001b[38;5;124;43m\"\u001b[39;49m\u001b[38;5;124;43mpymysql\u001b[39;49m\u001b[38;5;124;43m\"\u001b[39;49m\u001b[43m)\u001b[49m\n",
      "\u001b[1;31mModuleNotFoundError\u001b[0m: No module named 'pymysql'"
     ]
    }
   ],
   "source": [
    "conn_str = f\"mysql+pymysql://{user_id}:{pwd}@{host_name}\"\n",
    "sqlEngine = create_engine(conn_str, pool_recycle=3600)\n",
    "\n",
    "sqlEngine.execute(f\"DROP DATABASE IF EXISTS `{dst_dbname}`;\")\n",
    "sqlEngine.execute(f\"CREATE DATABASE `{dst_dbname}`;\")\n",
    "sqlEngine.execute(f\"USE {dst_dbname};\")"
   ]
  },
  {
   "cell_type": "markdown",
   "id": "69f6bc96",
   "metadata": {},
   "source": [
    "1.1. Extract Data from the Source Database Tables"
   ]
  },
  {
   "cell_type": "code",
   "execution_count": 2,
   "id": "10e448ed",
   "metadata": {},
   "outputs": [
    {
     "ename": "ModuleNotFoundError",
     "evalue": "No module named 'pymysql'",
     "output_type": "error",
     "traceback": [
      "\u001b[1;31m---------------------------------------------------------------------------\u001b[0m",
      "\u001b[1;31mModuleNotFoundError\u001b[0m                       Traceback (most recent call last)",
      "Input \u001b[1;32mIn [2]\u001b[0m, in \u001b[0;36m<cell line: 2>\u001b[1;34m()\u001b[0m\n\u001b[0;32m      1\u001b[0m sql_customers \u001b[38;5;241m=\u001b[39m \u001b[38;5;124m\"\u001b[39m\u001b[38;5;124mSELECT * FROM northwind.customers;\u001b[39m\u001b[38;5;124m\"\u001b[39m\n\u001b[1;32m----> 2\u001b[0m df_customers \u001b[38;5;241m=\u001b[39m \u001b[43mget_dataframe\u001b[49m\u001b[43m(\u001b[49m\u001b[43muser_id\u001b[49m\u001b[43m,\u001b[49m\u001b[43m \u001b[49m\u001b[43mpwd\u001b[49m\u001b[43m,\u001b[49m\u001b[43m \u001b[49m\u001b[43mhost_name\u001b[49m\u001b[43m,\u001b[49m\u001b[43m \u001b[49m\u001b[43msrc_dbname\u001b[49m\u001b[43m,\u001b[49m\u001b[43m \u001b[49m\u001b[43msql_customers\u001b[49m\u001b[43m)\u001b[49m\n\u001b[0;32m      3\u001b[0m df_customers\u001b[38;5;241m.\u001b[39mhead(\u001b[38;5;241m2\u001b[39m)\n\u001b[0;32m      5\u001b[0m sql_employees \u001b[38;5;241m=\u001b[39m \u001b[38;5;124m\"\u001b[39m\u001b[38;5;124mSELECT * FROM northwind.employees;\u001b[39m\u001b[38;5;124m\"\u001b[39m\n",
      "Input \u001b[1;32mIn [1]\u001b[0m, in \u001b[0;36mget_dataframe\u001b[1;34m(user_id, pwd, host_name, db_name, sql_query)\u001b[0m\n\u001b[0;32m     15\u001b[0m \u001b[38;5;28;01mdef\u001b[39;00m \u001b[38;5;21mget_dataframe\u001b[39m(user_id, pwd, host_name, db_name, sql_query):\n\u001b[0;32m     16\u001b[0m     conn_str \u001b[38;5;241m=\u001b[39m \u001b[38;5;124mf\u001b[39m\u001b[38;5;124m\"\u001b[39m\u001b[38;5;124mmysql+pymysql://\u001b[39m\u001b[38;5;132;01m{\u001b[39;00muser_id\u001b[38;5;132;01m}\u001b[39;00m\u001b[38;5;124m:\u001b[39m\u001b[38;5;132;01m{\u001b[39;00mpwd\u001b[38;5;132;01m}\u001b[39;00m\u001b[38;5;124m@\u001b[39m\u001b[38;5;132;01m{\u001b[39;00mhost_name\u001b[38;5;132;01m}\u001b[39;00m\u001b[38;5;124m/\u001b[39m\u001b[38;5;132;01m{\u001b[39;00mdb_name\u001b[38;5;132;01m}\u001b[39;00m\u001b[38;5;124m\"\u001b[39m\n\u001b[1;32m---> 17\u001b[0m     sqlEngine \u001b[38;5;241m=\u001b[39m \u001b[43mcreate_engine\u001b[49m\u001b[43m(\u001b[49m\u001b[43mconn_str\u001b[49m\u001b[43m,\u001b[49m\u001b[43m \u001b[49m\u001b[43mpool_recycle\u001b[49m\u001b[38;5;241;43m=\u001b[39;49m\u001b[38;5;241;43m3600\u001b[39;49m\u001b[43m)\u001b[49m\n\u001b[0;32m     18\u001b[0m     connection \u001b[38;5;241m=\u001b[39m sqlEngine\u001b[38;5;241m.\u001b[39mconnect()\n\u001b[0;32m     19\u001b[0m     dframe \u001b[38;5;241m=\u001b[39m pd\u001b[38;5;241m.\u001b[39mread_sql(sql_query, connection);\n",
      "File \u001b[1;32m<string>:2\u001b[0m, in \u001b[0;36mcreate_engine\u001b[1;34m(url, **kwargs)\u001b[0m\n",
      "File \u001b[1;32m~\\anaconda3\\lib\\site-packages\\sqlalchemy\\util\\deprecations.py:309\u001b[0m, in \u001b[0;36mdeprecated_params.<locals>.decorate.<locals>.warned\u001b[1;34m(fn, *args, **kwargs)\u001b[0m\n\u001b[0;32m    302\u001b[0m     \u001b[38;5;28;01mif\u001b[39;00m m \u001b[38;5;129;01min\u001b[39;00m kwargs:\n\u001b[0;32m    303\u001b[0m         _warn_with_version(\n\u001b[0;32m    304\u001b[0m             messages[m],\n\u001b[0;32m    305\u001b[0m             versions[m],\n\u001b[0;32m    306\u001b[0m             version_warnings[m],\n\u001b[0;32m    307\u001b[0m             stacklevel\u001b[38;5;241m=\u001b[39m\u001b[38;5;241m3\u001b[39m,\n\u001b[0;32m    308\u001b[0m         )\n\u001b[1;32m--> 309\u001b[0m \u001b[38;5;28;01mreturn\u001b[39;00m fn(\u001b[38;5;241m*\u001b[39margs, \u001b[38;5;241m*\u001b[39m\u001b[38;5;241m*\u001b[39mkwargs)\n",
      "File \u001b[1;32m~\\anaconda3\\lib\\site-packages\\sqlalchemy\\engine\\create.py:560\u001b[0m, in \u001b[0;36mcreate_engine\u001b[1;34m(url, **kwargs)\u001b[0m\n\u001b[0;32m    558\u001b[0m         \u001b[38;5;28;01mif\u001b[39;00m k \u001b[38;5;129;01min\u001b[39;00m kwargs:\n\u001b[0;32m    559\u001b[0m             dbapi_args[k] \u001b[38;5;241m=\u001b[39m pop_kwarg(k)\n\u001b[1;32m--> 560\u001b[0m     dbapi \u001b[38;5;241m=\u001b[39m dialect_cls\u001b[38;5;241m.\u001b[39mdbapi(\u001b[38;5;241m*\u001b[39m\u001b[38;5;241m*\u001b[39mdbapi_args)\n\u001b[0;32m    562\u001b[0m dialect_args[\u001b[38;5;124m\"\u001b[39m\u001b[38;5;124mdbapi\u001b[39m\u001b[38;5;124m\"\u001b[39m] \u001b[38;5;241m=\u001b[39m dbapi\n\u001b[0;32m    564\u001b[0m dialect_args\u001b[38;5;241m.\u001b[39msetdefault(\u001b[38;5;124m\"\u001b[39m\u001b[38;5;124mcompiler_linting\u001b[39m\u001b[38;5;124m\"\u001b[39m, compiler\u001b[38;5;241m.\u001b[39mNO_LINTING)\n",
      "File \u001b[1;32m~\\anaconda3\\lib\\site-packages\\sqlalchemy\\dialects\\mysql\\pymysql.py:68\u001b[0m, in \u001b[0;36mMySQLDialect_pymysql.dbapi\u001b[1;34m(cls)\u001b[0m\n\u001b[0;32m     66\u001b[0m \u001b[38;5;129m@classmethod\u001b[39m\n\u001b[0;32m     67\u001b[0m \u001b[38;5;28;01mdef\u001b[39;00m \u001b[38;5;21mdbapi\u001b[39m(\u001b[38;5;28mcls\u001b[39m):\n\u001b[1;32m---> 68\u001b[0m     \u001b[38;5;28;01mreturn\u001b[39;00m \u001b[38;5;28;43m__import__\u001b[39;49m\u001b[43m(\u001b[49m\u001b[38;5;124;43m\"\u001b[39;49m\u001b[38;5;124;43mpymysql\u001b[39;49m\u001b[38;5;124;43m\"\u001b[39;49m\u001b[43m)\u001b[49m\n",
      "\u001b[1;31mModuleNotFoundError\u001b[0m: No module named 'pymysql'"
     ]
    }
   ],
   "source": [
    "sql_customers = \"SELECT * FROM northwind.customers;\"\n",
    "df_customers = get_dataframe(user_id, pwd, host_name, src_dbname, sql_customers)\n",
    "df_customers.head(2)"
   ]
  },
  {
   "cell_type": "code",
   "execution_count": null,
   "id": "85eed132",
   "metadata": {},
   "outputs": [],
   "source": [
    "sql_employees = \"SELECT * FROM northwind.employees;\"\n",
    "df_employees = get_dataframe(user_id, pwd, host_name, src_dbname, sql_employees)\n",
    "df_employees.head(2)"
   ]
  },
  {
   "cell_type": "code",
   "execution_count": null,
   "id": "ef2ca604",
   "metadata": {},
   "outputs": [],
   "source": [
    "sql_products = \"SELECT * FROM northwind.products;\"\n",
    "df_products = get_dataframe(user_id, pwd, host_name, src_dbname, sql_products)\n",
    "df_products.head(2)"
   ]
  },
  {
   "cell_type": "code",
   "execution_count": null,
   "id": "bfecd10c",
   "metadata": {},
   "outputs": [],
   "source": [
    "sql_shippers = \"SELECT * FROM northwind.shippers;\"\n",
    "df_shippers = get_dataframe(user_id, pwd, host_name, src_dbname, sql_shippers)\n",
    "df_shippers.head(2)"
   ]
  },
  {
   "cell_type": "markdown",
   "id": "c83400c0",
   "metadata": {},
   "source": [
    "1.2. Perform Any Necessary Transformations"
   ]
  },
  {
   "cell_type": "code",
   "execution_count": 3,
   "id": "62b075a0",
   "metadata": {},
   "outputs": [
    {
     "ename": "NameError",
     "evalue": "name 'df_customers' is not defined",
     "output_type": "error",
     "traceback": [
      "\u001b[1;31m---------------------------------------------------------------------------\u001b[0m",
      "\u001b[1;31mNameError\u001b[0m                                 Traceback (most recent call last)",
      "Input \u001b[1;32mIn [3]\u001b[0m, in \u001b[0;36m<cell line: 2>\u001b[1;34m()\u001b[0m\n\u001b[0;32m      1\u001b[0m drop_cols \u001b[38;5;241m=\u001b[39m [\u001b[38;5;124m'\u001b[39m\u001b[38;5;124memail_address\u001b[39m\u001b[38;5;124m'\u001b[39m,\u001b[38;5;124m'\u001b[39m\u001b[38;5;124mhome_phone\u001b[39m\u001b[38;5;124m'\u001b[39m,\u001b[38;5;124m'\u001b[39m\u001b[38;5;124mmobile_phone\u001b[39m\u001b[38;5;124m'\u001b[39m,\u001b[38;5;124m'\u001b[39m\u001b[38;5;124mweb_page\u001b[39m\u001b[38;5;124m'\u001b[39m,\u001b[38;5;124m'\u001b[39m\u001b[38;5;124mnotes\u001b[39m\u001b[38;5;124m'\u001b[39m,\u001b[38;5;124m'\u001b[39m\u001b[38;5;124mattachments\u001b[39m\u001b[38;5;124m'\u001b[39m]\n\u001b[1;32m----> 2\u001b[0m \u001b[43mdf_customers\u001b[49m\u001b[38;5;241m.\u001b[39mdrop(drop_cols, axis\u001b[38;5;241m=\u001b[39m\u001b[38;5;241m1\u001b[39m, inplace\u001b[38;5;241m=\u001b[39m\u001b[38;5;28;01mTrue\u001b[39;00m)\n\u001b[0;32m      3\u001b[0m df_customers\u001b[38;5;241m.\u001b[39mrename(columns\u001b[38;5;241m=\u001b[39m{\u001b[38;5;124m\"\u001b[39m\u001b[38;5;124mid\u001b[39m\u001b[38;5;124m\"\u001b[39m:\u001b[38;5;124m\"\u001b[39m\u001b[38;5;124mcustomer_key\u001b[39m\u001b[38;5;124m\"\u001b[39m}, inplace\u001b[38;5;241m=\u001b[39m\u001b[38;5;28;01mTrue\u001b[39;00m)\n\u001b[0;32m      5\u001b[0m df_customers\u001b[38;5;241m.\u001b[39mhead(\u001b[38;5;241m2\u001b[39m)\n",
      "\u001b[1;31mNameError\u001b[0m: name 'df_customers' is not defined"
     ]
    }
   ],
   "source": [
    "drop_cols = ['email_address','home_phone','mobile_phone','web_page','notes','attachments']\n",
    "df_customers.drop(drop_cols, axis=1, inplace=True)\n",
    "df_customers.rename(columns={\"id\":\"customer_key\"}, inplace=True)\n",
    "\n",
    "df_customers.head(2)"
   ]
  },
  {
   "cell_type": "code",
   "execution_count": null,
   "id": "9ee73f16",
   "metadata": {},
   "outputs": [],
   "source": [
    "drop_cols = ['mobile_phone','notes','attachments']\n",
    "df_employees.drop(drop_cols, axis=1, inplace=True)\n",
    "df_employees.rename(columns={\"id\":\"employee_key\"}, inplace=True)\n",
    "\n",
    "df_employees.head(2)"
   ]
  },
  {
   "cell_type": "code",
   "execution_count": null,
   "id": "90a4869d",
   "metadata": {},
   "outputs": [],
   "source": [
    "drop_cols = ['supplier_ids','description','attachments']\n",
    "df_products.drop(drop_cols, axis=1, inplace=True)\n",
    "df_products.rename(columns={\"id\":\"product_key\"}, inplace=True)\n",
    "\n",
    "df_products.head(2)"
   ]
  },
  {
   "cell_type": "code",
   "execution_count": null,
   "id": "e8c6ab73",
   "metadata": {},
   "outputs": [],
   "source": [
    "drop_cols = ['last_name','first_name','email_address','job_title','business_phone',\n",
    "             'home_phone','mobile_phone','fax_number','web_page','notes','attachments']\n",
    "df_shippers.drop(drop_cols, axis=1, inplace=True)\n",
    "df_shippers.rename(columns={\"id\":\"shipper_key\"}, inplace=True)\n",
    "\n",
    "df_shippers.head(2)"
   ]
  },
  {
   "cell_type": "markdown",
   "id": "359f0382",
   "metadata": {},
   "source": [
    "1.4. Load the Transformed DataFrames into the New Data Warehouse by Creating New Tables"
   ]
  },
  {
   "cell_type": "code",
   "execution_count": null,
   "id": "7517bc0a",
   "metadata": {},
   "outputs": [],
   "source": [
    "db_operation = \"insert\"\n",
    "\n",
    "tables = [('dim_customers', df_customers, 'customer_key'),\n",
    "          ('dim_employees', df_employees, 'employee_key'),\n",
    "          ('dim_products', df_products, 'product_key'),\n",
    "          ('dim_shippers', df_shippers, 'shipper_key')]"
   ]
  },
  {
   "cell_type": "code",
   "execution_count": null,
   "id": "22396804",
   "metadata": {},
   "outputs": [],
   "source": [
    "for table_name, dataframe, primary_key in tables:\n",
    "    set_dataframe(user_id, pwd, host_name, dst_dbname, dataframe, table_name, primary_key, db_operation)"
   ]
  },
  {
   "cell_type": "markdown",
   "id": "db2f7ae2",
   "metadata": {},
   "source": [
    "2.1. First, you could simply use the SQL SELECT statement you authored in Lab 2"
   ]
  },
  {
   "cell_type": "code",
   "execution_count": null,
   "id": "c37249ac",
   "metadata": {},
   "outputs": [],
   "source": [
    "sql_fact_orders = \"\"\"\n",
    "    SELECT `orders`.`id`,\n",
    "    `orders`.`employee_id`,\n",
    "    `orders`.`customer_id`,\n",
    "    `order_details`.`product_id`,\n",
    "    `orders`.`shipper_id`,\n",
    "    `orders`.`ship_name`,\n",
    "    `orders`.`ship_address`,\n",
    "    `orders`.`ship_city`,\n",
    "    `orders`.`ship_state_province`,\n",
    "    `orders`.`ship_zip_postal_code`,\n",
    "    `orders`.`ship_country_region`,\n",
    "    `order_details`.`quantity`,\n",
    "    `orders`.`order_date`,\n",
    "    `orders`.`shipped_date`,\n",
    "    `order_details`.`unit_price`,\n",
    "    `order_details`.`discount`,\n",
    "    `orders`.`shipping_fee`,\n",
    "    `orders`.`taxes`,\n",
    "    `orders`.`payment_type`,\n",
    "    `orders`.`paid_date`,\n",
    "    `orders`.`tax_rate`,\n",
    "    `orders_status`.`status_name`,\n",
    "    `order_details_status`.`status_name`\n",
    "FROM `northwind`.`orders` LEFT OUTER JOIN `northwind`.`orders_status`\n",
    "    ON `orders`.`status_id` = `orders_status`.`id`,\n",
    "    `northwind`.`order_details` LEFT OUTER JOIN `northwind`.`order_details_status`\n",
    "    ON `order_details`.`status_id` = `order_details_status`.`id`;\n",
    "    \"\"\"\n",
    "\n",
    "df_fact_orders = get_dataframe(user_id, pwd, host_name, src_dbname, sql_fact_orders)\n",
    "df_fact_orders.head(2)"
   ]
  },
  {
   "cell_type": "markdown",
   "id": "46303463",
   "metadata": {},
   "source": [
    "2.2.1. Get all the data from each of the four tables involved"
   ]
  },
  {
   "cell_type": "code",
   "execution_count": null,
   "id": "ce613eac",
   "metadata": {},
   "outputs": [],
   "source": [
    "sql_orders = \"SELECT * FROM northwind.orders;\"\n",
    "df_orders = get_dataframe(userid, pwd, hostname, src dbname, sql orders)\n",
    "df_orders.rename(columns={'id':'order_id'}, inplace=True)\n",
    "df_orders.head(2)"
   ]
  },
  {
   "cell_type": "markdown",
   "id": "f7f81a2e",
   "metadata": {},
   "source": [
    "2.2.2. Get the order_status column."
   ]
  },
  {
   "cell_type": "code",
   "execution_count": null,
   "id": "5cd4d1b2",
   "metadata": {},
   "outputs": [],
   "source": [
    "df_orders = pd.merge(df_orders, df_orders_status, ON=\"status_id\", HOW=\"inner\")\n",
    "df_orders.rename(columns={\"status_name\":\"order_status\"}, inplace=True)"
   ]
  },
  {
   "cell_type": "markdown",
   "id": "84d2d392",
   "metadata": {},
   "source": [
    "2.2.3. Get the order_details_status"
   ]
  },
  {
   "cell_type": "code",
   "execution_count": null,
   "id": "22fb1440",
   "metadata": {},
   "outputs": [],
   "source": [
    "df_order_details = pd.merge(df_order_detals, df_order_details_status, on='status_id', how='inner')\n",
    "df_order_details.rename(columns={\"status_name\":\"order_details_status\"}, inplace=True)\n",
    "df_order_details.drop(['status_id'], axis=1, inplace=True)\n",
    "df_order_details.head(2)"
   ]
  },
  {
   "cell_type": "markdown",
   "id": "421af811",
   "metadata": {},
   "source": [
    "2.2.4. Join the Orders and OrderDetails DataFrames"
   ]
  },
  {
   "cell_type": "code",
   "execution_count": null,
   "id": "b3b34470",
   "metadata": {},
   "outputs": [],
   "source": [
    "df_fact_orders = pd.merge(df_orders, df_order_details, on='order_id', how=\"right\")\n",
    "df_fact_orders.head(2)"
   ]
  },
  {
   "cell_type": "markdown",
   "id": "9cee0d46",
   "metadata": {},
   "source": [
    "2.2.5. Perform any Additional Transformations"
   ]
  },
  {
   "cell_type": "code",
   "execution_count": null,
   "id": "b3afa746",
   "metadata": {},
   "outputs": [],
   "source": [
    "Drop columns of no particular interest, (done)\n",
    "drop_columns = ['id', 'notes','tax_status_id','purchase_order_id','inventory_id','data_allocated']\n",
    "df_fact_orders.drop(drop_columns, axis=1, inplace=True)\n",
    "\n",
    "reorder the columns,\n",
    "ordered_columns = ['order_id','employee_id','customer_id','product_id','shipper_id','ship_name',\n",
    "                   'ship_address','ship_city','ship_state_province','ship_zip_postal_code','ship_country_region','quantity',\n",
    "                   'order_date','shipped_date','unit_price','discount','shipping_fee','taxes','tax_rate',\n",
    "                   'payment_type','paid_date','order_status','order_details_status']\n",
    "\n",
    "df_fact_orders.insert(0, \"order_key\", range(1, df_fact_orders.shape[0]+1))\n",
    "df_fact_orders.head(2)"
   ]
  },
  {
   "cell_type": "markdown",
   "id": "65774777",
   "metadata": {},
   "source": [
    "2.2.6. Write the DataFrame Back to the Database"
   ]
  },
  {
   "cell_type": "code",
   "execution_count": null,
   "id": "4d729538",
   "metadata": {},
   "outputs": [],
   "source": [
    "table_name =\"fact_orders\"\n",
    "primary_key = \"order_key\"\n",
    "db_operation = \"insert\"\n",
    "\n",
    "set_dataframe(user_id, pwd, host_name, dst_dbname, df_fact_orders, table_nme, primary_key, db_operation)"
   ]
  },
  {
   "cell_type": "markdown",
   "id": "19826e0d",
   "metadata": {},
   "source": [
    "3.0. Demonstrate that the New Data Warehouse Exists and Contains the Correct Data"
   ]
  },
  {
   "cell_type": "code",
   "execution_count": null,
   "id": "8eadf209",
   "metadata": {},
   "outputs": [],
   "source": [
    "sql_test = \"\"\"\n",
    "    SELECT customers.'last_name' AS 'customer_name',\n",
    "        SUM(orders.'quantity') AS 'total_quantity',\n",
    "        SUM(orders.'unit_price') S 'total_unit_price',\n",
    "    FROM '{0}'.'fact_orders' AS orders\n",
    "    INNER JOIN '{0}'.'dim_customers' AS customers\n",
    "    ON orders.customer_id = customers.customer_key\n",
    "    GROUP BY customers.'last_name'\n",
    "    ORDER BY total_unit_price DESC;\n",
    "\"\"\"\n",
    "\n",
    "def_test.head()"
   ]
  }
 ],
 "metadata": {
  "kernelspec": {
   "display_name": "Python 3 (ipykernel)",
   "language": "python",
   "name": "python3"
  },
  "language_info": {
   "codemirror_mode": {
    "name": "ipython",
    "version": 3
   },
   "file_extension": ".py",
   "mimetype": "text/x-python",
   "name": "python",
   "nbconvert_exporter": "python",
   "pygments_lexer": "ipython3",
   "version": "3.9.12"
  }
 },
 "nbformat": 4,
 "nbformat_minor": 5
}
